{
 "cells": [
  {
   "cell_type": "code",
   "execution_count": 90,
   "metadata": {},
   "outputs": [],
   "source": [
    "import pandas as pd\n",
    "import numpy as np\n",
    "import matplotlib.pyplot as plt\n",
    "import seaborn as sns\n",
    "%matplotlib inline"
   ]
  },
  {
   "cell_type": "code",
   "execution_count": 111,
   "metadata": {},
   "outputs": [
    {
     "name": "stderr",
     "output_type": "stream",
     "text": [
      "/Users/benedictbrady/.local/lib/python3.5/site-packages/IPython/core/interactiveshell.py:2785: DtypeWarning: Columns (288,298) have mixed types. Specify dtype option on import or set low_memory=False.\n",
      "  interactivity=interactivity, compiler=compiler, result=result)\n"
     ]
    }
   ],
   "source": [
    "data = pd.read_csv('Hackathon Raw Files/Full Datasets - Opta/MLS/MLS 2017-2018.csv')"
   ]
  },
  {
   "cell_type": "markdown",
   "metadata": {},
   "source": [
    "#### Pass Features"
   ]
  },
  {
   "cell_type": "code",
   "execution_count": 112,
   "metadata": {
    "scrolled": false
   },
   "outputs": [],
   "source": [
    "data['pass_x'] = data['pass_end_x'] - data['x']\n",
    "data['pass_y'] = data['pass_end_y'] - data['y']"
   ]
  },
  {
   "cell_type": "code",
   "execution_count": 113,
   "metadata": {},
   "outputs": [],
   "source": [
    "#df_pass = data.query('event_type == \"Pass\"')\n",
    "\n",
    "#fig, ax = plt.subplots(1, 1, figsize = (10, 10))\n",
    "#ax.scatter(df_pass['pass_x'], df_pass['pass_y'])\n",
    "\n",
    "df_new = data.pivot_table(index = ['player', 'player_id'], values=['pass_x', 'pass_y'], aggfunc=np.mean).reset_index()\n",
    "df_new = df_new.set_index('player')"
   ]
  },
  {
   "cell_type": "markdown",
   "metadata": {},
   "source": [
    "#### Offsides Player Counts "
   ]
  },
  {
   "cell_type": "code",
   "execution_count": 114,
   "metadata": {
    "scrolled": false
   },
   "outputs": [],
   "source": [
    "list(data.columns)\n",
    "#data.query('players_caught_offside')['event_type']#.unique()\n",
    "df_off = data[data['players_caught_offside'].isnull() == False].pivot_table(index = \\\n",
    "                                            'players_caught_offside', values = 'player', aggfunc = len)\n",
    "df_new = df_new.merge(df_off, left_on='player_id', right_index=True, how = 'left')"
   ]
  },
  {
   "cell_type": "markdown",
   "metadata": {},
   "source": [
    "#### Foul Count"
   ]
  },
  {
   "cell_type": "code",
   "execution_count": 115,
   "metadata": {},
   "outputs": [],
   "source": [
    "#data.query('event_type == \"Foul\"')\n",
    "df_foul = data.query('event_type == \"Foul\"').pivot_table(index = 'player', values = 'x', aggfunc = len)\n",
    "df_new = df_new.merge(df_foul, left_index=True, right_index=True, how = 'left')"
   ]
  },
  {
   "cell_type": "code",
   "execution_count": 116,
   "metadata": {},
   "outputs": [],
   "source": [
    "df_new.columns = ['player_id', 'pass_x', 'pass_y', 'offsides_count', 'fouls']"
   ]
  },
  {
   "cell_type": "code",
   "execution_count": 117,
   "metadata": {},
   "outputs": [],
   "source": [
    "df_new = df_new.drop(['pass_x', 'pass_y'], axis = 1)"
   ]
  },
  {
   "cell_type": "markdown",
   "metadata": {},
   "source": [
    "#### Aerial"
   ]
  },
  {
   "cell_type": "code",
   "execution_count": 118,
   "metadata": {},
   "outputs": [],
   "source": [
    "df_head_def = data.query('event_type == \"Aerial\" & x < 30').pivot_table(index = 'player', \\\n",
    "                                        values = 'outcome', aggfunc = [np.mean, len])\n",
    "df_head_mid = data.query('event_type == \"Aerial\" & x >= 30 & x < 70').pivot_table(index = 'player', \\\n",
    "                                        values = 'outcome', aggfunc = [np.mean, len])\n",
    "df_head_off = data.query('event_type == \"Aerial\" & x >= 70').pivot_table(index = 'player', \\\n",
    "                                        values = 'outcome', aggfunc = [np.mean, len])\n",
    "\n",
    "df_head = df_head_def.merge(df_head_mid, right_index = True, left_index = True, how = 'outer')\n",
    "df_head = df_head.merge(df_head_off, right_index = True, left_index = True, how = 'outer')\n",
    "df_head.columns = ['Header Defense Mean', 'Header Defense Count', 'Header Midfield Mean', \\\n",
    "                   'Header Midfield Count', 'Header Offense Mean', 'Header Offense Count']\n",
    "\n",
    "df_new = df_new.merge(df_head, left_index=True, right_index=True, how = 'left')"
   ]
  },
  {
   "cell_type": "markdown",
   "metadata": {},
   "source": [
    "#### Interceptions"
   ]
  },
  {
   "cell_type": "code",
   "execution_count": 119,
   "metadata": {},
   "outputs": [],
   "source": [
    "df_int = data.query('event_type == \"Interception\"').pivot_table(index = 'player', values = 'x', aggfunc = len)\n",
    "df_int.columns = ['Interceptions']\n",
    "df_new = df_new.merge(df_int, left_index=True, right_index=True, how = 'left')"
   ]
  },
  {
   "cell_type": "markdown",
   "metadata": {},
   "source": [
    "#### Long Passes "
   ]
  },
  {
   "cell_type": "code",
   "execution_count": 120,
   "metadata": {
    "scrolled": true
   },
   "outputs": [],
   "source": [
    "df_lb = data.query('event_type == \"Pass\" and long_ball == 1').pivot_table(index = 'player', values = 'outcome', aggfunc = [np.mean, len])\n",
    "df_lb.columns = ['Long Balls Mean', 'Long Balls Count']\n",
    "df_new = df_new.merge(df_lb, left_index=True, right_index=True, how = 'left')"
   ]
  },
  {
   "cell_type": "markdown",
   "metadata": {},
   "source": [
    "#### Take Ons "
   ]
  },
  {
   "cell_type": "code",
   "execution_count": 121,
   "metadata": {},
   "outputs": [],
   "source": [
    "data['abs y'] = abs(50 - data['y'])\n",
    "\n",
    "takeondf=data.query('event_type == \"Take on\"').pivot_table(index='player', values=['x', 'y', 'abs y'], aggfunc=[np.mean,len])\n",
    "\n",
    "numsuccess=data.query('event_type == \"Take on\" and outcome==1').pivot_table(index='player', values='x', aggfunc=[len])\n",
    "\n",
    "numfailure=data.query('event_type == \"Take on\" and outcome!=1').pivot_table(index='player',values='x', aggfunc=[len])\n",
    "\n",
    "takeondf = takeondf.merge(numsuccess, left_index=True, right_index=True, how = 'outer')\n",
    "takeondf = takeondf.merge(numfailure, left_index=True, right_index=True, how = 'outer')\n",
    "\n",
    "takeondf.columns = ['Take On Mean X', 'Take On Mean Y', 'Take On Mean Y Abs', 'Take On Total', 'Extra 1', 'Extra 2', 'Take On Success', 'Take On Failure']\n",
    "takeondf = takeondf.drop(['Extra 1', 'Extra 2'], axis = 1)"
   ]
  },
  {
   "cell_type": "code",
   "execution_count": 122,
   "metadata": {},
   "outputs": [],
   "source": [
    "df_new = df_new.merge(takeondf, left_index=True, right_index=True, how = 'left')"
   ]
  },
  {
   "cell_type": "code",
   "execution_count": 123,
   "metadata": {},
   "outputs": [],
   "source": [
    "df_new.to_csv('featuresBenedict3.csv')"
   ]
  },
  {
   "cell_type": "code",
   "execution_count": 125,
   "metadata": {},
   "outputs": [
    {
     "data": {
      "text/plain": [
       "Index(['player_id', 'offsides_count', 'fouls', 'Header Defense Mean',\n",
       "       'Header Defense Count', 'Header Midfield Mean', 'Header Midfield Count',\n",
       "       'Header Offense Mean', 'Header Offense Count', 'Interceptions',\n",
       "       'Long Balls Mean', 'Long Balls Count', 'Take On Mean X',\n",
       "       'Take On Mean Y', 'Take On Mean Y Abs', 'Take On Total',\n",
       "       'Take On Success', 'Take On Failure'],\n",
       "      dtype='object')"
      ]
     },
     "execution_count": 125,
     "metadata": {},
     "output_type": "execute_result"
    }
   ],
   "source": [
    "df_new.columns"
   ]
  },
  {
   "cell_type": "code",
   "execution_count": null,
   "metadata": {},
   "outputs": [],
   "source": []
  }
 ],
 "metadata": {
  "kernelspec": {
   "display_name": "Python [default]",
   "language": "python",
   "name": "python3"
  },
  "language_info": {
   "codemirror_mode": {
    "name": "ipython",
    "version": 3
   },
   "file_extension": ".py",
   "mimetype": "text/x-python",
   "name": "python",
   "nbconvert_exporter": "python",
   "pygments_lexer": "ipython3",
   "version": "3.5.2"
  }
 },
 "nbformat": 4,
 "nbformat_minor": 2
}
