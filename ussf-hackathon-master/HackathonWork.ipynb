{
 "cells": [
  {
   "cell_type": "code",
   "execution_count": null,
   "metadata": {
    "collapsed": true
   },
   "outputs": [],
   "source": [
    "import pandas as pd\n",
    "import numpy as np\n",
    "from unidecode import unidecode"
   ]
  },
  {
   "cell_type": "code",
   "execution_count": null,
   "metadata": {
    "collapsed": true
   },
   "outputs": [],
   "source": [
    "data=pd.read_csv('FIFA 18 Ratings.csv')"
   ]
  },
  {
   "cell_type": "code",
   "execution_count": null,
   "metadata": {
    "collapsed": true
   },
   "outputs": [],
   "source": [
    "data['']"
   ]
  },
  {
   "cell_type": "code",
   "execution_count": null,
   "metadata": {
    "collapsed": true,
    "scrolled": true
   },
   "outputs": [],
   "source": [
    "df=pd.read_csv('MLS 2017-2018.csv')"
   ]
  },
  {
   "cell_type": "code",
   "execution_count": null,
   "metadata": {
    "collapsed": true
   },
   "outputs": [],
   "source": [
    "players=df['player'].unique()\n",
    "df['deltay']=df['pass_end_y']-df['y']\n"
   ]
  },
  {
   "cell_type": "code",
   "execution_count": null,
   "metadata": {
    "collapsed": true
   },
   "outputs": [],
   "source": [
    "df['y_centered']=df['y']-50\n",
    "df['pass_end_y_centered']=df['pass_end_y']-50\n",
    "df['pass_end_y_abs']=abs(df['pass_end_y_centered'])\n",
    "df['y_abs']=abs(df['y_centered'])\n",
    "df['y_end_abs']=abs(df['pass_end_y_abs'])\n",
    "df['deltax']=df['pass_end_x']-df['x']\n",
    "df['deltay']=df['pass_end_y']-df['y']\n",
    "df['absdeltay']=abs(df['y_end_abs'])-abs(df['y_abs'])"
   ]
  },
  {
   "cell_type": "code",
   "execution_count": null,
   "metadata": {
    "collapsed": true
   },
   "outputs": [],
   "source": [
    "df['Shot Distance']=np.sqrt((1.15*(100-df['x']))**2+(.69*abs(50-df['y']))**2)"
   ]
  },
  {
   "cell_type": "code",
   "execution_count": null,
   "metadata": {
    "collapsed": true
   },
   "outputs": [],
   "source": [
    "df['xdistfromgoal']=100-df['x']"
   ]
  },
  {
   "cell_type": "code",
   "execution_count": null,
   "metadata": {
    "collapsed": true
   },
   "outputs": [],
   "source": [
    "df['passdistance']-df['length']"
   ]
  },
  {
   "cell_type": "code",
   "execution_count": null,
   "metadata": {
    "collapsed": true
   },
   "outputs": [],
   "source": [
    "df['y_centered']=df['y']-50\n",
    "df['y_abs']=abs(df['y_centered'])\n",
    "df['y_end_abs']=abs(df['pass_end_y_abs'])\n",
    "\n",
    "df['pass_end_y_centered']=df['pass_end_y']-50\n",
    "df['pass_end_y_abs']=abs(df['pass_end_y_centered'])\n",
    "\n",
    "df['deltax']=df['pass_end_x']-df['x']\n",
    "df['deltay']=df['pass_end_y']-df['y']\n",
    "df['absdeltay']=abs(df['y_end_abs'])-abs(df['y_abs'])"
   ]
  },
  {
   "cell_type": "code",
   "execution_count": null,
   "metadata": {
    "collapsed": true
   },
   "outputs": [],
   "source": [
    "tackledf=df.query('event_type == \"Tackle\"').pivot_table(\n",
    "                                        index='player',\n",
    "                                           values=['x', 'y_centered', 'y_abs'],\n",
    "                                           aggfunc=[np.mean,len, np.std])"
   ]
  },
  {
   "cell_type": "code",
   "execution_count": null,
   "metadata": {
    "collapsed": true,
    "scrolled": true
   },
   "outputs": [],
   "source": [
    "tackledf.columns=['AverageXTackle', 'AverageYAbsTackle', 'AverageYCenteredTackle', 'TotalTackles', 'TotalTackles1', 'TotalTackles2',\n",
    "                 'XTackleStd', 'YAbsTackleStd', 'YCenteredTackleStd']\n",
    "del tackledf['TotalTackles1']\n",
    "del tackledf['TotalTackles2']\n",
    "tackledf"
   ]
  },
  {
   "cell_type": "code",
   "execution_count": null,
   "metadata": {
    "collapsed": true
   },
   "outputs": [],
   "source": [
    "countdf=pd.DataFrame(df['player'].value_counts())\n",
    "countdf"
   ]
  },
  {
   "cell_type": "code",
   "execution_count": null,
   "metadata": {
    "collapsed": true
   },
   "outputs": [],
   "source": [
    "countdf=countdf.sort_index()\n",
    "countdf.columns=['TotalEvents']"
   ]
  },
  {
   "cell_type": "code",
   "execution_count": null,
   "metadata": {
    "collapsed": true
   },
   "outputs": [],
   "source": [
    "passdf=df.query('event_type == \"Pass\" and outcome==\"1\"').pivot_table(index='player',\n",
    "                                           values=['x','length', 'angle', 'deltax', 'deltay',  'y_centered', 'absdeltay', 'y_abs'],\n",
    "                                           aggfunc=[np.mean,len, np.std])\n",
    "passdf.columns=['AveragePassYDifference', 'AveragePassAngle', 'AverageXDifPass', 'AverageYDifPass', 'AveragePassLength', 'AveragePassXLocation' ,\n",
    "                'AveragePassYAbs','AveragePassYlocation', 'NumPasses1','NumPasses2','NumPasses3','NumPasses4','NumPasses5','NumPasses6','NumPasses7','NumPasses8','PassYDifferenceStd', 'PassAngleStd', 'XDifPassStd', 'YDifPassStd', 'PassLengthStd', 'PassXLocationStd',\n",
    "                'PassYAbsStd','PassYlocationStd']\n",
    "del passdf['NumPasses2']\n",
    "del passdf['NumPasses3']\n",
    "del passdf['NumPasses4']\n",
    "del passdf['NumPasses5']\n",
    "del passdf['NumPasses6']\n",
    "del passdf['NumPasses7']\n",
    "del passdf['NumPasses8']\n",
    "passdf['TotalPasses']=passdf['NumPasses1']\n",
    "del passdf['NumPasses1']\n",
    "passdf\n"
   ]
  },
  {
   "cell_type": "code",
   "execution_count": null,
   "metadata": {
    "collapsed": true
   },
   "outputs": [],
   "source": [
    "benedictframe=pd.read_csv('benedict_features_1.csv')\n",
    "benedictframe2=benedictframe[['player', 'offsides_count', 'fouls']]"
   ]
  },
  {
   "cell_type": "code",
   "execution_count": null,
   "metadata": {
    "collapsed": true
   },
   "outputs": [],
   "source": [
    "df.query('event_type == \"Take on\"').pivot_table(\n",
    "                                        index='player',\n",
    "                                           values=['x', 'y_centered', 'y_abs'],\n",
    "                                           aggfunc=[np.mean,len, np.std])"
   ]
  },
  {
   "cell_type": "code",
   "execution_count": null,
   "metadata": {
    "collapsed": true
   },
   "outputs": [],
   "source": [
    "BenedictHeaders=pd.read_csv('headers_benedict.csv')\n",
    "BenedictHeaders=BenedictHeaders.set_index('player')"
   ]
  },
  {
   "cell_type": "code",
   "execution_count": null,
   "metadata": {
    "collapsed": true
   },
   "outputs": [],
   "source": [
    "Brendandata=pd.read_csv('MLS Minutes Goals Assists 2017.csv')\n",
    "Brendandata=Brendandata.sort_values('Name')"
   ]
  },
  {
   "cell_type": "code",
   "execution_count": null,
   "metadata": {
    "collapsed": true
   },
   "outputs": [],
   "source": [
    "Brendandata=Brendandata.set_index('Name')"
   ]
  },
  {
   "cell_type": "code",
   "execution_count": null,
   "metadata": {},
   "outputs": [],
   "source": [
    "frames=[passdf, tackledf, shotdf, countdf, benedictframe2, BenedictHeaders]\n",
    "fulldf2=pd.concat(frames, axis=1)\n",
    "fulldf2"
   ]
  },
  {
   "cell_type": "code",
   "execution_count": null,
   "metadata": {},
   "outputs": [],
   "source": [
    "frames=[passdf, tackledf, shotdf, countdf, benedictframe2, BenedictHeaders]\n",
    "fulldf=pd.concat(frames, axis=1)\n",
    "len(fulldf)"
   ]
  },
  {
   "cell_type": "code",
   "execution_count": null,
   "metadata": {},
   "outputs": [],
   "source": [
    "Brendandata\n",
    "Brendandata=Brendandata[Brendandata['minutesRegSeason']!=0]\n",
    "Brendandata['NoCharName']='Hi'\n",
    "Brendandata\n",
    "\n",
    "for i in range(len(Brendandata)):\n",
    "    Brendandata['NoCharName'][i]=unidecode(Brendandata['Name'][i])\n",
    "Brendandata=Brendandata.set_index('NoCharName')"
   ]
  },
  {
   "cell_type": "code",
   "execution_count": null,
   "metadata": {},
   "outputs": [],
   "source": [
    "frames=[passdf, tackledf, shotdf, countdf, benedictframe2, BenedictHeaders]\n",
    "fulldf=pd.concat(frames, axis=1)\n",
    "fulldf\n",
    "fulldf=fulldf.reset_index()\n",
    "fulldf['NoCharName']=fulldf['index']\n",
    "for i in range(len(fulldf)):\n",
    "    fulldf['NoCharName'][i]=unidecode(fulldf['NoCharName'][i])\n",
    "fulldf=fulldf.sort_values('NoCharName')\n",
    "fulldf=fulldf.set_index('NoCharName')\n",
    "fulldf"
   ]
  },
  {
   "cell_type": "code",
   "execution_count": null,
   "metadata": {},
   "outputs": [],
   "source": [
    "frames=[Brendandata, fulldf]\n",
    "fulldf2=pd.concat(frames, axis=1)\n",
    "fulldf2"
   ]
  },
  {
   "cell_type": "code",
   "execution_count": null,
   "metadata": {},
   "outputs": [],
   "source": [
    "for i in range(len(fulldf)):\n",
    "    if(fulldf['NoCharName'][i]=='Ricardo Izecson Dos Santos Leite'):\n",
    "        fulldf['NoCharName'][i]='Kaka'\n",
    "    if(fulldf['NoCharName'][i]=='Victor Pagliari Giro'):\n",
    "        fulldf['NoCharName'][i]='PC'\n",
    "    if(fulldf['NoCharName'][i]=='Ibson Barreto da Silva'):\n",
    "        fulldf['NoCharName'][i]='Ibson'\n",
    "    if(fulldf['NoCharName'][i]=='Jose Artur de Lima Junior'):\n",
    "        fulldf['NoCharName'][i]='Artur'\n",
    "    if(fulldf['NoCharName'][i]=='Marco Delgado'):\n",
    "        fulldf['NoCharName'][i]='Marky Delgado'\n",
    "\n",
    "    if(fulldf['NoCharName'][i]=='Fabrice-Jean Picault'):\n",
    "        fulldf['NoCharName'][i]='Fafa Picault'\n",
    "    if(fulldf['NoCharName'][i]=='Vytautas Andriuskevicius'):\n",
    "        fulldf['NoCharName'][i]='Vytas'\n",
    "    if(fulldf['NoCharName'][i]=='Jelle van Damme'):\n",
    "        fulldf['NoCharName'][i]='Jelle Van Damme'\n",
    "\n",
    "    if(fulldf['NoCharName'][i]=='Michael Murillo'):\n",
    "        fulldf['NoCharName'][i]='Michael Amir Murillo'\n",
    "    if(fulldf['NoCharName'][i]=='Jakob Nerwinski'):\n",
    "        fulldf['NoCharName'][i]='Jake Nerwinski'\n",
    "    if(fulldf['NoCharName'][i]=='Richard Marquez'):\n",
    "        fulldf['NoCharName'][i]='Richie Marquez'\n",
    "    if(fulldf['NoCharName'][i]=='Pedro Miguel Martins Santos'):\n",
    "        fulldf['NoCharName'][i]='Pedro Santos'\n",
    "    if(fulldf['NoCharName'][i]=='Donald Smith'):\n",
    "        fulldf['NoCharName'][i]='Donnie Smith'\n",
    "    if(fulldf['NoCharName'][i]=='Bernie Ibini-Isei'):\n",
    "        fulldf['NoCharName'][i]='Bernie Ibini'\n",
    "        \n",
    "    if(fulldf['NoCharName'][i]=='Ilson Pereira Dias Junior'):\n",
    "        fulldf['NoCharName'][i]='Ilsinho'\n",
    "    if(fulldf['NoCharName'][i]=='Richard Marquez'):\n",
    "        fulldf['NoCharName'][i]='Richie Marquez'\n",
    "    if(fulldf['NoCharName'][i]=='Alexandre Monteiro De Lima'):\n",
    "        fulldf['NoCharName'][i]='Alex'\n",
    "\n",
    "    if(fulldf['NoCharName'][i]=='Marcos Urena'):\n",
    "        fulldf['NoCharName'][i]='Marco Urena'\n",
    "    if(fulldf['NoCharName'][i]=='Joseph Holland'):\n",
    "        fulldf['NoCharName'][i]='Joe Holland'\n",
    "    if(fulldf['NoCharName'][i]=='Joshua Yaro'):\n",
    "        fulldf['NoCharName'][i]='Josh Yaro'\n",
    "\n",
    "    if(fulldf['NoCharName'][i]=='Yoshimar Yotun'):\n",
    "        fulldf['NoCharName'][i]='Yoshi Yotun'\n",
    "    if(fulldf['NoCharName'][i]=='Juan Cabezas'):\n",
    "        fulldf['NoCharName'][i]='Juan David Cabezas'\n",
    "    if(fulldf['NoCharName'][i]=='Salvatore Zizzo'):\n",
    "        fulldf['NoCharName'][i]='Sal Zizzo'\n",
    "\n",
    "    if(fulldf['NoCharName'][i]=='Joshua Gatt'):\n",
    "        fulldf['NoCharName'][i]='Josh Gatt'\n",
    "    if(fulldf['NoCharName'][i]=='Dominic Dwyer'):\n",
    "        fulldf['NoCharName'][i]='Dom Dwyer'\n",
    "    if(fulldf['NoCharName'][i]=='Joao Pedro Almeida Machado'):\n",
    "        fulldf['NoCharName'][i]='Joao Pedro'\n",
    "\n",
    "    if(fulldf['NoCharName'][i]=='Tosaint Antony Ricketts'):\n",
    "        fulldf['NoCharName'][i]='Tosaint Ricketts'\n",
    "    if(fulldf['NoCharName'][i]=='Dominic Dwyer'):\n",
    "        fulldf['NoCharName'][i]='Dom Dwyer'\n",
    "    if(fulldf['NoCharName'][i]=='Felipe Martins Campanholi'):\n",
    "        fulldf['NoCharName'][i]='Felipe'\n",
    "\n",
    "    if(fulldf['NoCharName'][i]=='Emmanuel Igiebor'):\n",
    "        fulldf['NoCharName'][i]='Nosa Igiebor'\n",
    "    if(fulldf['NoCharName'][i]=='Charles Kwabena Sapong'):\n",
    "        fulldf['NoCharName'][i]='CJ Sapong'\n",
    "    if(fulldf['NoCharName'][i]=='Ambroise Oyongo Bitolo'):\n",
    "        fulldf['NoCharName'][i]='Ambroise Oyongo'\n",
    "\n",
    "    if(fulldf['NoCharName'][i]=='Joshua Smith'):\n",
    "        fulldf['NoCharName'][i]='Josh Smith'\n",
    "    if(fulldf['NoCharName'][i]=='Charles Kwabena Sapong'):\n",
    "        fulldf['NoCharName'][i]='CJ Sapong'\n",
    "    if(fulldf['NoCharName'][i]=='Ambroise Oyongo Bitolo'):\n",
    "        fulldf['NoCharName'][i]='Ambroise Oyongo'\n",
    "\n",
    "    if(fulldf['NoCharName'][i]=='Jose Leonardo Ribeiro da Silva'):\n",
    "        fulldf['NoCharName'][i]='Leonardo'\n",
    "    if(fulldf['NoCharName'][i]=='Richie Laryea'):\n",
    "        fulldf['NoCharName'][i]='Richmond Laryea'\n",
    "    if(fulldf['NoCharName'][i]=='Joao Diogo Serpa Meira'):\n",
    "        fulldf['NoCharName'][i]='Joao Meira'\n",
    "\n",
    "    if(fulldf['NoCharName'][i]=='Vitor Gomes Pereira Junior'):\n",
    "        fulldf['NoCharName'][i]='Juninho'\n",
    "    if(fulldf['NoCharName'][i]=='Stephen Obayan Sunday'):\n",
    "        fulldf['NoCharName'][i]='Sunday Stephen'\n",
    "    if(fulldf['NoCharName'][i]=='Igor de Carvalho Juliao'):\n",
    "        fulldf['NoCharName'][i]='Igor Juliao'\n",
    "    if(fulldf['NoCharName'][i]=='Kenneth Tribbett'):\n",
    "        fulldf['NoCharName'][i]='Ken Tribbett'\n",
    "\n",
    "    if(fulldf['NoCharName'][i]=='Derrick Etienne'):\n",
    "        fulldf['NoCharName'][i]='Derrick Etienne Jr.'\n",
    "    if(fulldf['NoCharName'][i]=='Kevin Renato Fortes Oliveira'):\n",
    "        fulldf['NoCharName'][i]='Kevin Oliveira'\n",
    "    if(fulldf['NoCharName'][i]=='Jose Arturo Alvarez Hernandez'):\n",
    "        fulldf['NoCharName'][i]='Arturo Alvarez'\n",
    "    if(fulldf['NoCharName'][i]=='Miguel Lopez'):\n",
    "        fulldf['NoCharName'][i]='Mikey Lopez'\n",
    "        \n",
    "\n",
    "    if(fulldf['NoCharName'][i]=='Oscar Garcia'):\n",
    "        fulldf['NoCharName'][i]='Boniek Garcia'\n",
    "    if(fulldf['NoCharName'][i]=='Nicholas DePuy'):\n",
    "        fulldf['NoCharName'][i]='Nick DePuy'\n",
    "    if(fulldf['NoCharName'][i]=='Bradford Jamieson'):\n",
    "        fulldf['NoCharName'][i]='Bradford Jamieson IV'\n",
    "    if(fulldf['NoCharName'][i]=='Reginald Cannon'):\n",
    "        fulldf['NoCharName'][i]='Reggie Cannon'\n",
    "\n",
    "    if(fulldf['NoCharName'][i]=='Maxine Chanot'):\n",
    "        fulldf['NoCharName'][i]='Maxime Chanot'\n",
    "    if(fulldf['NoCharName'][i]=='Bismark Boateng'):\n",
    "        fulldf['NoCharName'][i]='Bismark Adjei-Boateng'\n",
    "    if(fulldf['NoCharName'][i]=='Bradford Jamieson'):\n",
    "        fulldf['NoCharName'][i]='Bradford Jamieson IV'\n",
    "    if(fulldf['NoCharName'][i]=='Fabio Alves Macedo'):\n",
    "        fulldf['NoCharName'][i]='Fabinho'\n",
    "    if(fulldf['NoCharName'][i]=='Jose Rodriguez'):\n",
    "        fulldf['NoCharName'][i]='Memo Rodriguez'\n",
    "\n",
    " "
   ]
  },
  {
   "cell_type": "code",
   "execution_count": null,
   "metadata": {},
   "outputs": [],
   "source": [
    "list(set(list(Brendandata['NoCharName'].unique())) - set(list(fulldf['NoCharName'].unique())))"
   ]
  },
  {
   "cell_type": "code",
   "execution_count": null,
   "metadata": {
    "collapsed": true
   },
   "outputs": [],
   "source": [
    "fulldf=fulldf.set_index('NoCharName')"
   ]
  },
  {
   "cell_type": "code",
   "execution_count": null,
   "metadata": {
    "collapsed": true
   },
   "outputs": [],
   "source": [
    "Brendandata=Brendandata.set_index('NoCharName')"
   ]
  },
  {
   "cell_type": "code",
   "execution_count": null,
   "metadata": {
    "collapsed": true
   },
   "outputs": [],
   "source": [
    "Benedict3=pd.read_csv('featuresBenedict3.csv')"
   ]
  },
  {
   "cell_type": "code",
   "execution_count": null,
   "metadata": {},
   "outputs": [],
   "source": [
    "Benedict3['NoCharName']='Hi'\n",
    "\n",
    "for i in range(len(Benedict3)):\n",
    "    Benedict3['NoCharName'][i]=unidecode(Benedict3['player'][i])\n",
    "\n",
    "\n",
    "Benedict3"
   ]
  },
  {
   "cell_type": "code",
   "execution_count": null,
   "metadata": {
    "collapsed": true
   },
   "outputs": [],
   "source": [
    "Benedict3['TakeOn%']=Benedict3['Take On Success']/Benedict3['Take On Failure']"
   ]
  },
  {
   "cell_type": "code",
   "execution_count": null,
   "metadata": {},
   "outputs": [],
   "source": [
    "for i in range(len(Benedict3)):\n",
    "    if(Benedict3['NoCharName'][i]=='Ricardo Izecson Dos Santos Leite'):\n",
    "        Benedict3['NoCharName'][i]='Kaka'\n",
    "    if(Benedict3['NoCharName'][i]=='Victor Pagliari Giro'):\n",
    "        Benedict3['NoCharName'][i]='PC'\n",
    "    if(Benedict3['NoCharName'][i]=='Ibson Barreto da Silva'):\n",
    "        Benedict3['NoCharName'][i]='Ibson'\n",
    "    if(Benedict3['NoCharName'][i]=='Jose Artur de Lima Junior'):\n",
    "        Benedict3['NoCharName'][i]='Artur'\n",
    "    if(Benedict3['NoCharName'][i]=='Marco Delgado'):\n",
    "        Benedict3['NoCharName'][i]='Marky Delgado'\n",
    "\n",
    "    if(Benedict3['NoCharName'][i]=='Fabrice-Jean Picault'):\n",
    "        Benedict3['NoCharName'][i]='Fafa Picault'\n",
    "    if(Benedict3['NoCharName'][i]=='Vytautas Andriuskevicius'):\n",
    "        Benedict3['NoCharName'][i]='Vytas'\n",
    "    if(Benedict3['NoCharName'][i]=='Jelle van Damme'):\n",
    "        Benedict3['NoCharName'][i]='Jelle Van Damme'\n",
    "\n",
    "    if(Benedict3['NoCharName'][i]=='Michael Murillo'):\n",
    "        Benedict3['NoCharName'][i]='Michael Amir Murillo'\n",
    "    if(Benedict3['NoCharName'][i]=='Jakob Nerwinski'):\n",
    "        Benedict3['NoCharName'][i]='Jake Nerwinski'\n",
    "    if(Benedict3['NoCharName'][i]=='Richard Marquez'):\n",
    "        Benedict3['NoCharName'][i]='Richie Marquez'\n",
    "    if(Benedict3['NoCharName'][i]=='Pedro Miguel Martins Santos'):\n",
    "        Benedict3['NoCharName'][i]='Pedro Santos'\n",
    "    if(Benedict3['NoCharName'][i]=='Donald Smith'):\n",
    "        Benedict3['NoCharName'][i]='Donnie Smith'\n",
    "    if(Benedict3['NoCharName'][i]=='Bernie Ibini-Isei'):\n",
    "        Benedict3['NoCharName'][i]='Bernie Ibini'\n",
    "        \n",
    "    if(Benedict3['NoCharName'][i]=='Ilson Pereira Dias Junior'):\n",
    "        Benedict3['NoCharName'][i]='Ilsinho'\n",
    "    if(Benedict3['NoCharName'][i]=='Richard Marquez'):\n",
    "        Benedict3['NoCharName'][i]='Richie Marquez'\n",
    "    if(Benedict3['NoCharName'][i]=='Alexandre Monteiro De Lima'):\n",
    "        Benedict3['NoCharName'][i]='Alex'\n",
    "\n",
    "    if(Benedict3['NoCharName'][i]=='Marcos Urena'):\n",
    "        Benedict3['NoCharName'][i]='Marco Urena'\n",
    "    if(Benedict3['NoCharName'][i]=='Joseph Holland'):\n",
    "        Benedict3['NoCharName'][i]='Joe Holland'\n",
    "    if(Benedict3['NoCharName'][i]=='Joshua Yaro'):\n",
    "        Benedict3['NoCharName'][i]='Josh Yaro'\n",
    "\n",
    "    if(Benedict3['NoCharName'][i]=='Yoshimar Yotun'):\n",
    "        Benedict3['NoCharName'][i]='Yoshi Yotun'\n",
    "    if(Benedict3['NoCharName'][i]=='Juan Cabezas'):\n",
    "        Benedict3['NoCharName'][i]='Juan David Cabezas'\n",
    "    if(Benedict3['NoCharName'][i]=='Salvatore Zizzo'):\n",
    "        Benedict3['NoCharName'][i]='Sal Zizzo'\n",
    "\n",
    "    if(Benedict3['NoCharName'][i]=='Joshua Gatt'):\n",
    "        Benedict3['NoCharName'][i]='Josh Gatt'\n",
    "    if(Benedict3['NoCharName'][i]=='Dominic Dwyer'):\n",
    "        Benedict3['NoCharName'][i]='Dom Dwyer'\n",
    "    if(Benedict3['NoCharName'][i]=='Joao Pedro Almeida Machado'):\n",
    "        Benedict3['NoCharName'][i]='Joao Pedro'\n",
    "\n",
    "    if(Benedict3['NoCharName'][i]=='Tosaint Antony Ricketts'):\n",
    "        Benedict3['NoCharName'][i]='Tosaint Ricketts'\n",
    "    if(Benedict3['NoCharName'][i]=='Dominic Dwyer'):\n",
    "        Benedict3['NoCharName'][i]='Dom Dwyer'\n",
    "    if(Benedict3['NoCharName'][i]=='Felipe Martins Campanholi'):\n",
    "        Benedict3['NoCharName'][i]='Felipe'\n",
    "\n",
    "    if(Benedict3['NoCharName'][i]=='Emmanuel Igiebor'):\n",
    "        Benedict3['NoCharName'][i]='Nosa Igiebor'\n",
    "    if(Benedict3['NoCharName'][i]=='Charles Kwabena Sapong'):\n",
    "        Benedict3['NoCharName'][i]='CJ Sapong'\n",
    "    if(Benedict3['NoCharName'][i]=='Ambroise Oyongo Bitolo'):\n",
    "        Benedict3['NoCharName'][i]='Ambroise Oyongo'\n",
    "\n",
    "    if(Benedict3['NoCharName'][i]=='Joshua Smith'):\n",
    "        Benedict3['NoCharName'][i]='Josh Smith'\n",
    "    if(Benedict3['NoCharName'][i]=='Charles Kwabena Sapong'):\n",
    "        Benedict3['NoCharName'][i]='CJ Sapong'\n",
    "    if(Benedict3['NoCharName'][i]=='Ambroise Oyongo Bitolo'):\n",
    "        Benedict3['NoCharName'][i]='Ambroise Oyongo'\n",
    "\n",
    "    if(Benedict3['NoCharName'][i]=='Jose Leonardo Ribeiro da Silva'):\n",
    "        Benedict3['NoCharName'][i]='Leonardo'\n",
    "    if(Benedict3['NoCharName'][i]=='Richie Laryea'):\n",
    "        Benedict3['NoCharName'][i]='Richmond Laryea'\n",
    "    if(Benedict3['NoCharName'][i]=='Joao Diogo Serpa Meira'):\n",
    "        Benedict3['NoCharName'][i]='Joao Meira'\n",
    "\n",
    "    if(Benedict3['NoCharName'][i]=='Vitor Gomes Pereira Junior'):\n",
    "        Benedict3['NoCharName'][i]='Juninho'\n",
    "    if(Benedict3['NoCharName'][i]=='Stephen Obayan Sunday'):\n",
    "        Benedict3['NoCharName'][i]='Sunday Stephen'\n",
    "    if(Benedict3['NoCharName'][i]=='Igor de Carvalho Juliao'):\n",
    "        Benedict3['NoCharName'][i]='Igor Juliao'\n",
    "    if(Benedict3['NoCharName'][i]=='Kenneth Tribbett'):\n",
    "        Benedict3['NoCharName'][i]='Ken Tribbett'\n",
    "\n",
    "    if(Benedict3['NoCharName'][i]=='Derrick Etienne'):\n",
    "        Benedict3['NoCharName'][i]='Derrick Etienne Jr.'\n",
    "    if(Benedict3['NoCharName'][i]=='Kevin Renato Fortes Oliveira'):\n",
    "        Benedict3['NoCharName'][i]='Kevin Oliveira'\n",
    "    if(Benedict3['NoCharName'][i]=='Jose Arturo Alvarez Hernandez'):\n",
    "        Benedict3['NoCharName'][i]='Arturo Alvarez'\n",
    "    if(Benedict3['NoCharName'][i]=='Miguel Lopez'):\n",
    "        Benedict3['NoCharName'][i]='Mikey Lopez'\n",
    "        \n",
    "\n",
    "    if(Benedict3['NoCharName'][i]=='Oscar Garcia'):\n",
    "        Benedict3['NoCharName'][i]='Boniek Garcia'\n",
    "    if(Benedict3['NoCharName'][i]=='Nicholas DePuy'):\n",
    "        Benedict3['NoCharName'][i]='Nick DePuy'\n",
    "    if(Benedict3['NoCharName'][i]=='Bradford Jamieson'):\n",
    "        Benedict3['NoCharName'][i]='Bradford Jamieson IV'\n",
    "    if(Benedict3['NoCharName'][i]=='Reginald Cannon'):\n",
    "        Benedict3['NoCharName'][i]='Reggie Cannon'\n",
    "\n",
    "    if(Benedict3['NoCharName'][i]=='Maxine Chanot'):\n",
    "        Benedict3['NoCharName'][i]='Maxime Chanot'\n",
    "    if(Benedict3['NoCharName'][i]=='Bismark Boateng'):\n",
    "        Benedict3['NoCharName'][i]='Bismark Adjei-Boateng'\n",
    "    if(Benedict3['NoCharName'][i]=='Bradford Jamieson'):\n",
    "        Benedict3['NoCharName'][i]='Bradford Jamieson IV'\n",
    "    if(Benedict3['NoCharName'][i]=='Fabio Alves Macedo'):\n",
    "        Benedict3['NoCharName'][i]='Fabinho'\n",
    "    if(Benedict3['NoCharName'][i]=='Jose Rodriguez'):\n",
    "        Benedict3['NoCharName'][i]='Memo Rodriguez'\n"
   ]
  },
  {
   "cell_type": "code",
   "execution_count": null,
   "metadata": {},
   "outputs": [],
   "source": [
    "Frames=[fulldf2, Benedict3]\n",
    "fulldf3=pd.concat(Frames, axis=1)\n",
    "fulldf3"
   ]
  },
  {
   "cell_type": "code",
   "execution_count": null,
   "metadata": {
    "collapsed": true
   },
   "outputs": [],
   "source": [
    "del Benedict3['offsides_count']\n",
    "del Benedict3['fouls']\n",
    "del Benedict3['Header Defense Count']\n",
    "del Benedict3['Header Midfield Count']\n",
    "del Benedict3['Header Offense Count']\n"
   ]
  },
  {
   "cell_type": "code",
   "execution_count": null,
   "metadata": {
    "collapsed": true
   },
   "outputs": [],
   "source": [
    "fulldf3['Goals/90']=90*fulldf3['totalGoals']/fulldf3['totalMinutes']\n",
    "fulldf3['Assists/90']=90*fulldf3['totalAssists']/fulldf3['totalMinutes']\n",
    "fulldf3['Passes/90']=90*fulldf3['TotalPasses']/fulldf3['totalMinutes']\n",
    "fulldf3['Tackles/90']=90*fulldf3['TotalTackles']/fulldf3['totalMinutes']\n",
    "fulldf3['Shots/90']=90*fulldf3['TotalShots']/fulldf3['totalMinutes']\n",
    "fulldf3['Offsides/90']=90*fulldf3['offsides_count']/fulldf3['totalMinutes']\n",
    "fulldf3['Fouls/90']=90*fulldf3['fouls']/fulldf3['totalMinutes']\n",
    "fulldf3['Own3rdHeaders/90']=90*fulldf3['Header Defense Count']/fulldf3['totalMinutes']\n",
    "fulldf3['Mid3rdHeaders/90']=90*fulldf3['Header Midfield Count']/fulldf3['totalMinutes']\n",
    "fulldf3['Att3rdHeaders/90']=90*fulldf3['Header Offense Count']/fulldf3['totalMinutes']\n",
    "fulldf3['Int/90']=90*fulldf3['Interceptions']/fulldf3['totalMinutes']\n",
    "fulldf3['LongBalls/90']=90*fulldf3['Long Balls Mean']/fulldf3['totalMinutes']\n",
    "fulldf3['TakeOns/90']=90*fulldf3['Take On Success']/fulldf3['totalMinutes']"
   ]
  },
  {
   "cell_type": "code",
   "execution_count": null,
   "metadata": {
    "collapsed": true
   },
   "outputs": [],
   "source": [
    "del fulldf3['minutesRegSeason']\n",
    "del fulldf3['goalsRegSeason']\n",
    "del fulldf3['assistsRegSeason']\n",
    "del fulldf3['minutesPostSeason']\n",
    "del fulldf3['goalsPostSeason']\n",
    "del fulldf3['assistsPostSeason']\n",
    "\n",
    "del fulldf3['level_0']\n",
    "del fulldf3['index']\n",
    "\n"
   ]
  },
  {
   "cell_type": "code",
   "execution_count": null,
   "metadata": {
    "collapsed": true
   },
   "outputs": [],
   "source": [
    "del fulldf3['totalGoals']\n",
    "del fulldf3['totalAssists']\n",
    "del fulldf3['TotalPasses']\n",
    "del fulldf3['TotalTackles']\n",
    "del fulldf3['TotalShots']\n",
    "del fulldf3['offsides_count']\n",
    "del fulldf3['fouls']\n",
    "del fulldf3['Header Defense Count']\n",
    "del fulldf3['Header Midfield Count']\n",
    "del fulldf3['Header Offense Count']\n",
    "del fulldf3['Interceptions']\n",
    "del fulldf3['Long Balls Mean']\n",
    "del fulldf3['Take On Success']\n",
    "\n"
   ]
  },
  {
   "cell_type": "code",
   "execution_count": null,
   "metadata": {
    "collapsed": true
   },
   "outputs": [],
   "source": [
    "del fulldf3['PassYDifferenceStd']\n",
    "del fulldf3['PassAngleStd']\n",
    "del fulldf3['YDifPassStd']\n",
    "del fulldf3['XDifPassStd']\n",
    "\n",
    "del fulldf3['PassYAbsStd']\n",
    "del fulldf3['PassYlocationStd']"
   ]
  },
  {
   "cell_type": "code",
   "execution_count": null,
   "metadata": {
    "collapsed": true
   },
   "outputs": [],
   "source": [
    "fulldf3.to_csv('Features11PM.csv')"
   ]
  },
  {
   "cell_type": "code",
   "execution_count": null,
   "metadata": {},
   "outputs": [],
   "source": [
    "FIFAratings=pd.read_csv('FIFA 18 Ratings.csv')\n",
    "FIFAratings"
   ]
  },
  {
   "cell_type": "code",
   "execution_count": null,
   "metadata": {},
   "outputs": [],
   "source": [
    "FIFAratings['NoCharName']='Hi'\n",
    "\n",
    "for i in range(len(FIFAratings)):\n",
    "    FIFAratings['NoCharName'][i]=unidecode(FIFAratings['Name'][i])\n",
    "\n",
    "FIFAratings"
   ]
  },
  {
   "cell_type": "code",
   "execution_count": null,
   "metadata": {
    "collapsed": true
   },
   "outputs": [],
   "source": [
    "MLSFIFA=FIFAratings[FIFAratings['NoCharName'].isin(fulldf3['Name'].unique())]"
   ]
  },
  {
   "cell_type": "code",
   "execution_count": null,
   "metadata": {},
   "outputs": [],
   "source": [
    "MLSFIFA['Current Team'].unique()"
   ]
  },
  {
   "cell_type": "code",
   "execution_count": null,
   "metadata": {
    "collapsed": true
   },
   "outputs": [],
   "source": [
    "initclustering=pd.read_csv('clusters.csv')\n",
    "clusteringlist=initclustering['Player'].unique()\n",
    "initclustering=initclustering.set_index('Player')"
   ]
  },
  {
   "cell_type": "code",
   "execution_count": null,
   "metadata": {},
   "outputs": [],
   "source": [
    "#fulldf3=fulldf3.reset_index()\n",
    "fulldf3=fulldf3.reset_index\n",
    "fulldf3=fulldf3[fulldf3['index'].isin(clusteringlist)]"
   ]
  },
  {
   "cell_type": "code",
   "execution_count": null,
   "metadata": {},
   "outputs": [],
   "source": [
    "initclustering=initclustering.set_index('Player')"
   ]
  },
  {
   "cell_type": "code",
   "execution_count": null,
   "metadata": {},
   "outputs": [],
   "source": [
    "#fulldf3=fulldf3.reset_index()\n",
    "del fulldf3['level_0']\n",
    "fulldf3.reset_index()\n",
    "fulldf3=fulldf3[fulldf3['index'].isin(clusteringlist)]\n",
    "fulldf3"
   ]
  },
  {
   "cell_type": "code",
   "execution_count": null,
   "metadata": {
    "collapsed": true
   },
   "outputs": [],
   "source": [
    "frames=[fulldf3, initclustering]\n",
    "fulldf4=pd.concat(frames, axis=1)\n",
    "fulldf4"
   ]
  },
  {
   "cell_type": "code",
   "execution_count": null,
   "metadata": {},
   "outputs": [],
   "source": [
    "fulldf3"
   ]
  },
  {
   "cell_type": "code",
   "execution_count": null,
   "metadata": {},
   "outputs": [],
   "source": [
    "fulldf3"
   ]
  },
  {
   "cell_type": "code",
   "execution_count": null,
   "metadata": {
    "collapsed": true
   },
   "outputs": [],
   "source": [
    "import math\n",
    "frames=[fulldf3, initclustering]\n",
    "fulldf4=pd.concat(frames, axis=1)\n",
    "fulldf4=fulldf4[fulldf4['cluster'].notnull()]"
   ]
  },
  {
   "cell_type": "code",
   "execution_count": null,
   "metadata": {
    "collapsed": true
   },
   "outputs": [],
   "source": [
    "MLSFIFA=MLSFIFA.set_index('NoCharName')\n",
    "MLSratings=pd.DataFrame(MLSFIFA['Overall Rating'])"
   ]
  },
  {
   "cell_type": "code",
   "execution_count": null,
   "metadata": {},
   "outputs": [],
   "source": [
    "frames=[MLSratings, fulldf4]\n",
    "fulldf5=pd.concat(frames, axis=1)\n",
    "fulldf5"
   ]
  },
  {
   "cell_type": "code",
   "execution_count": null,
   "metadata": {},
   "outputs": [],
   "source": [
    "MLSFIFA=FIFAratings[FIFAratings['NoCharName'].isin(fulldf3['Name'].unique())]\n",
    "#MLSFIFA=MLSFIFA.reset_index()\n",
    "#Indices to clear: 344, 364, 110, 40, 9\n",
    "MLSFIFA[MLSFIFA['Name']=='Emmanuel Boateng']\n"
   ]
  },
  {
   "cell_type": "code",
   "execution_count": null,
   "metadata": {},
   "outputs": [],
   "source": [
    "#344, 364, 110, 40, 9"
   ]
  },
  {
   "cell_type": "code",
   "execution_count": null,
   "metadata": {
    "collapsed": true
   },
   "outputs": [],
   "source": [
    "MLSFIFA=MLSFIFA.drop(MLSFIFA.index[[344, 364, 110, 40, 293, 9]])"
   ]
  },
  {
   "cell_type": "code",
   "execution_count": null,
   "metadata": {},
   "outputs": [],
   "source": [
    "MLSFIFA.set_index('NoCharName')"
   ]
  },
  {
   "cell_type": "code",
   "execution_count": null,
   "metadata": {
    "collapsed": true
   },
   "outputs": [],
   "source": [
    "fulldf5=fulldf5[fulldf5['cluster'].notnull()]"
   ]
  },
  {
   "cell_type": "code",
   "execution_count": null,
   "metadata": {
    "collapsed": true
   },
   "outputs": [],
   "source": [
    "fulldf5=fulldf5[fulldf5['Overall Rating'].notnull()]"
   ]
  },
  {
   "cell_type": "code",
   "execution_count": null,
   "metadata": {
    "collapsed": true
   },
   "outputs": [],
   "source": [
    "fulldf5.to_csv('RatingClusterFeature.csv')"
   ]
  },
  {
   "cell_type": "code",
   "execution_count": null,
   "metadata": {
    "collapsed": true
   },
   "outputs": [],
   "source": [
    "Brendanplayerdf=pd.read_csv('playersForAndrew.csv')"
   ]
  },
  {
   "cell_type": "code",
   "execution_count": null,
   "metadata": {},
   "outputs": [],
   "source": [
    "AndrewPlayers=list(fulldf5.reset_index['index'])"
   ]
  },
  {
   "cell_type": "code",
   "execution_count": null,
   "metadata": {},
   "outputs": [],
   "source": [
    "indexed=fulldf5.reset_index()"
   ]
  },
  {
   "cell_type": "code",
   "execution_count": null,
   "metadata": {},
   "outputs": [],
   "source": [
    "Andrewlist=list(indexed['index'])"
   ]
  },
  {
   "cell_type": "code",
   "execution_count": null,
   "metadata": {},
   "outputs": [],
   "source": [
    "Brendanlist=list(Brendanplayerdf['Name'])\n",
    "Brendanlist"
   ]
  },
  {
   "cell_type": "code",
   "execution_count": null,
   "metadata": {},
   "outputs": [],
   "source": [
    "list(set(Andrewlist)-set(Brendanlist))"
   ]
  },
  {
   "cell_type": "code",
   "execution_count": null,
   "metadata": {},
   "outputs": [],
   "source": [
    "list(set(Brendanlist)-set(Andrewlist))"
   ]
  },
  {
   "cell_type": "code",
   "execution_count": null,
   "metadata": {},
   "outputs": [],
   "source": [
    "roles=pd.read_csv('roles.csv')"
   ]
  },
  {
   "cell_type": "code",
   "execution_count": 794,
   "metadata": {},
   "outputs": [
    {
     "data": {
      "text/plain": [
       "30    109\n",
       "0      92\n",
       "10     76\n",
       "21     66\n",
       "11     59\n",
       "12     57\n",
       "20     33\n",
       "Name: role, dtype: int64"
      ]
     },
     "execution_count": 794,
     "metadata": {},
     "output_type": "execute_result"
    }
   ],
   "source": [
    "roles['role'].value_counts()"
   ]
  },
  {
   "cell_type": "code",
   "execution_count": 793,
   "metadata": {},
   "outputs": [
    {
     "data": {
      "text/html": [
       "<div>\n",
       "<style scoped>\n",
       "    .dataframe tbody tr th:only-of-type {\n",
       "        vertical-align: middle;\n",
       "    }\n",
       "\n",
       "    .dataframe tbody tr th {\n",
       "        vertical-align: top;\n",
       "    }\n",
       "\n",
       "    .dataframe thead th {\n",
       "        text-align: right;\n",
       "    }\n",
       "</style>\n",
       "<table border=\"1\" class=\"dataframe\">\n",
       "  <thead>\n",
       "    <tr style=\"text-align: right;\">\n",
       "      <th></th>\n",
       "      <th>Player</th>\n",
       "      <th>role</th>\n",
       "    </tr>\n",
       "  </thead>\n",
       "  <tbody>\n",
       "    <tr>\n",
       "      <th>0</th>\n",
       "      <td>Aaron Long</td>\n",
       "      <td>0</td>\n",
       "    </tr>\n",
       "    <tr>\n",
       "      <th>1</th>\n",
       "      <td>Aaron Maund</td>\n",
       "      <td>0</td>\n",
       "    </tr>\n",
       "    <tr>\n",
       "      <th>2</th>\n",
       "      <td>Adolfo Machado</td>\n",
       "      <td>0</td>\n",
       "    </tr>\n",
       "    <tr>\n",
       "      <th>3</th>\n",
       "      <td>Alex Crognale</td>\n",
       "      <td>0</td>\n",
       "    </tr>\n",
       "    <tr>\n",
       "      <th>4</th>\n",
       "      <td>Alexander Callens</td>\n",
       "      <td>0</td>\n",
       "    </tr>\n",
       "    <tr>\n",
       "      <th>5</th>\n",
       "      <td>Andres Imperiale</td>\n",
       "      <td>0</td>\n",
       "    </tr>\n",
       "    <tr>\n",
       "      <th>6</th>\n",
       "      <td>Antonio Mlinar Delamea</td>\n",
       "      <td>0</td>\n",
       "    </tr>\n",
       "    <tr>\n",
       "      <th>7</th>\n",
       "      <td>Atiba Harris</td>\n",
       "      <td>0</td>\n",
       "    </tr>\n",
       "    <tr>\n",
       "      <th>8</th>\n",
       "      <td>Aurelien Collin</td>\n",
       "      <td>0</td>\n",
       "    </tr>\n",
       "    <tr>\n",
       "      <th>9</th>\n",
       "      <td>Axel Sjoberg</td>\n",
       "      <td>0</td>\n",
       "    </tr>\n",
       "    <tr>\n",
       "      <th>10</th>\n",
       "      <td>Benjamin Angoua</td>\n",
       "      <td>0</td>\n",
       "    </tr>\n",
       "    <tr>\n",
       "      <th>11</th>\n",
       "      <td>Bobby Boswell</td>\n",
       "      <td>0</td>\n",
       "    </tr>\n",
       "    <tr>\n",
       "      <th>12</th>\n",
       "      <td>Bobby Burling</td>\n",
       "      <td>0</td>\n",
       "    </tr>\n",
       "    <tr>\n",
       "      <th>13</th>\n",
       "      <td>Brent Kallman</td>\n",
       "      <td>0</td>\n",
       "    </tr>\n",
       "    <tr>\n",
       "      <th>14</th>\n",
       "      <td>Chad Marshall</td>\n",
       "      <td>0</td>\n",
       "    </tr>\n",
       "    <tr>\n",
       "      <th>15</th>\n",
       "      <td>Chris Mavinga</td>\n",
       "      <td>0</td>\n",
       "    </tr>\n",
       "    <tr>\n",
       "      <th>16</th>\n",
       "      <td>Chris Schuler</td>\n",
       "      <td>0</td>\n",
       "    </tr>\n",
       "    <tr>\n",
       "      <th>17</th>\n",
       "      <td>Christian Dean</td>\n",
       "      <td>0</td>\n",
       "    </tr>\n",
       "    <tr>\n",
       "      <th>18</th>\n",
       "      <td>Claude Dielna</td>\n",
       "      <td>0</td>\n",
       "    </tr>\n",
       "    <tr>\n",
       "      <th>19</th>\n",
       "      <td>Damien Perrinelle</td>\n",
       "      <td>0</td>\n",
       "    </tr>\n",
       "    <tr>\n",
       "      <th>20</th>\n",
       "      <td>Daniel Steres</td>\n",
       "      <td>0</td>\n",
       "    </tr>\n",
       "    <tr>\n",
       "      <th>21</th>\n",
       "      <td>Dave Romney</td>\n",
       "      <td>0</td>\n",
       "    </tr>\n",
       "    <tr>\n",
       "      <th>22</th>\n",
       "      <td>David Horst</td>\n",
       "      <td>0</td>\n",
       "    </tr>\n",
       "    <tr>\n",
       "      <th>23</th>\n",
       "      <td>Deian Boldor</td>\n",
       "      <td>0</td>\n",
       "    </tr>\n",
       "    <tr>\n",
       "      <th>24</th>\n",
       "      <td>Drew Moor</td>\n",
       "      <td>0</td>\n",
       "    </tr>\n",
       "    <tr>\n",
       "      <th>25</th>\n",
       "      <td>Erik Palmer-Brown</td>\n",
       "      <td>0</td>\n",
       "    </tr>\n",
       "    <tr>\n",
       "      <th>26</th>\n",
       "      <td>Eriq Zavaleta</td>\n",
       "      <td>0</td>\n",
       "    </tr>\n",
       "    <tr>\n",
       "      <th>27</th>\n",
       "      <td>Fidel Escobar</td>\n",
       "      <td>0</td>\n",
       "    </tr>\n",
       "    <tr>\n",
       "      <th>28</th>\n",
       "      <td>Florian Jungwirth</td>\n",
       "      <td>0</td>\n",
       "    </tr>\n",
       "    <tr>\n",
       "      <th>29</th>\n",
       "      <td>Francisco Calvo</td>\n",
       "      <td>0</td>\n",
       "    </tr>\n",
       "    <tr>\n",
       "      <th>...</th>\n",
       "      <td>...</td>\n",
       "      <td>...</td>\n",
       "    </tr>\n",
       "    <tr>\n",
       "      <th>462</th>\n",
       "      <td>Nicolas Hasler</td>\n",
       "      <td>30</td>\n",
       "    </tr>\n",
       "    <tr>\n",
       "      <th>463</th>\n",
       "      <td>Nouhou Tolo</td>\n",
       "      <td>30</td>\n",
       "    </tr>\n",
       "    <tr>\n",
       "      <th>464</th>\n",
       "      <td>Oniel Fisher</td>\n",
       "      <td>30</td>\n",
       "    </tr>\n",
       "    <tr>\n",
       "      <th>465</th>\n",
       "      <td>Oyvind Alseth</td>\n",
       "      <td>30</td>\n",
       "    </tr>\n",
       "    <tr>\n",
       "      <th>466</th>\n",
       "      <td>PC</td>\n",
       "      <td>30</td>\n",
       "    </tr>\n",
       "    <tr>\n",
       "      <th>467</th>\n",
       "      <td>Patrick Doody</td>\n",
       "      <td>30</td>\n",
       "    </tr>\n",
       "    <tr>\n",
       "      <th>468</th>\n",
       "      <td>Pele van Anholt</td>\n",
       "      <td>30</td>\n",
       "    </tr>\n",
       "    <tr>\n",
       "      <th>469</th>\n",
       "      <td>RJ Allen</td>\n",
       "      <td>30</td>\n",
       "    </tr>\n",
       "    <tr>\n",
       "      <th>470</th>\n",
       "      <td>Raheem Edwards</td>\n",
       "      <td>30</td>\n",
       "    </tr>\n",
       "    <tr>\n",
       "      <th>471</th>\n",
       "      <td>Raymon Gaddis</td>\n",
       "      <td>30</td>\n",
       "    </tr>\n",
       "    <tr>\n",
       "      <th>472</th>\n",
       "      <td>Reagan Dunk</td>\n",
       "      <td>30</td>\n",
       "    </tr>\n",
       "    <tr>\n",
       "      <th>473</th>\n",
       "      <td>Ronald Matarrita</td>\n",
       "      <td>30</td>\n",
       "    </tr>\n",
       "    <tr>\n",
       "      <th>474</th>\n",
       "      <td>Ryan Hollingshead</td>\n",
       "      <td>30</td>\n",
       "    </tr>\n",
       "    <tr>\n",
       "      <th>475</th>\n",
       "      <td>Saad Abdul-Salaam</td>\n",
       "      <td>30</td>\n",
       "    </tr>\n",
       "    <tr>\n",
       "      <th>476</th>\n",
       "      <td>Sal Zizzo</td>\n",
       "      <td>30</td>\n",
       "    </tr>\n",
       "    <tr>\n",
       "      <th>477</th>\n",
       "      <td>Scott Sutter</td>\n",
       "      <td>30</td>\n",
       "    </tr>\n",
       "    <tr>\n",
       "      <th>478</th>\n",
       "      <td>Sean Franklin</td>\n",
       "      <td>30</td>\n",
       "    </tr>\n",
       "    <tr>\n",
       "      <th>479</th>\n",
       "      <td>Seth Sinovic</td>\n",
       "      <td>30</td>\n",
       "    </tr>\n",
       "    <tr>\n",
       "      <th>480</th>\n",
       "      <td>Shaun Francis</td>\n",
       "      <td>30</td>\n",
       "    </tr>\n",
       "    <tr>\n",
       "      <th>481</th>\n",
       "      <td>Shea Salinas</td>\n",
       "      <td>30</td>\n",
       "    </tr>\n",
       "    <tr>\n",
       "      <th>482</th>\n",
       "      <td>Sheanon Williams</td>\n",
       "      <td>30</td>\n",
       "    </tr>\n",
       "    <tr>\n",
       "      <th>483</th>\n",
       "      <td>Steven Beitashour</td>\n",
       "      <td>30</td>\n",
       "    </tr>\n",
       "    <tr>\n",
       "      <th>484</th>\n",
       "      <td>Taylor Kemp</td>\n",
       "      <td>30</td>\n",
       "    </tr>\n",
       "    <tr>\n",
       "      <th>485</th>\n",
       "      <td>Tony Beltran</td>\n",
       "      <td>30</td>\n",
       "    </tr>\n",
       "    <tr>\n",
       "      <th>486</th>\n",
       "      <td>Tsubasa Endoh</td>\n",
       "      <td>30</td>\n",
       "    </tr>\n",
       "    <tr>\n",
       "      <th>487</th>\n",
       "      <td>Tyler Adams</td>\n",
       "      <td>30</td>\n",
       "    </tr>\n",
       "    <tr>\n",
       "      <th>488</th>\n",
       "      <td>Tyrone Mears</td>\n",
       "      <td>30</td>\n",
       "    </tr>\n",
       "    <tr>\n",
       "      <th>489</th>\n",
       "      <td>Vytas</td>\n",
       "      <td>30</td>\n",
       "    </tr>\n",
       "    <tr>\n",
       "      <th>490</th>\n",
       "      <td>Waylon Francis</td>\n",
       "      <td>30</td>\n",
       "    </tr>\n",
       "    <tr>\n",
       "      <th>491</th>\n",
       "      <td>Zarek Valentin</td>\n",
       "      <td>30</td>\n",
       "    </tr>\n",
       "  </tbody>\n",
       "</table>\n",
       "<p>492 rows × 2 columns</p>\n",
       "</div>"
      ],
      "text/plain": [
       "                     Player  role\n",
       "0                Aaron Long     0\n",
       "1               Aaron Maund     0\n",
       "2            Adolfo Machado     0\n",
       "3             Alex Crognale     0\n",
       "4         Alexander Callens     0\n",
       "5          Andres Imperiale     0\n",
       "6    Antonio Mlinar Delamea     0\n",
       "7              Atiba Harris     0\n",
       "8           Aurelien Collin     0\n",
       "9              Axel Sjoberg     0\n",
       "10          Benjamin Angoua     0\n",
       "11            Bobby Boswell     0\n",
       "12            Bobby Burling     0\n",
       "13            Brent Kallman     0\n",
       "14            Chad Marshall     0\n",
       "15            Chris Mavinga     0\n",
       "16            Chris Schuler     0\n",
       "17           Christian Dean     0\n",
       "18            Claude Dielna     0\n",
       "19        Damien Perrinelle     0\n",
       "20            Daniel Steres     0\n",
       "21              Dave Romney     0\n",
       "22              David Horst     0\n",
       "23             Deian Boldor     0\n",
       "24                Drew Moor     0\n",
       "25        Erik Palmer-Brown     0\n",
       "26            Eriq Zavaleta     0\n",
       "27            Fidel Escobar     0\n",
       "28        Florian Jungwirth     0\n",
       "29          Francisco Calvo     0\n",
       "..                      ...   ...\n",
       "462          Nicolas Hasler    30\n",
       "463             Nouhou Tolo    30\n",
       "464            Oniel Fisher    30\n",
       "465           Oyvind Alseth    30\n",
       "466                      PC    30\n",
       "467           Patrick Doody    30\n",
       "468         Pele van Anholt    30\n",
       "469                RJ Allen    30\n",
       "470          Raheem Edwards    30\n",
       "471           Raymon Gaddis    30\n",
       "472             Reagan Dunk    30\n",
       "473        Ronald Matarrita    30\n",
       "474       Ryan Hollingshead    30\n",
       "475       Saad Abdul-Salaam    30\n",
       "476               Sal Zizzo    30\n",
       "477            Scott Sutter    30\n",
       "478           Sean Franklin    30\n",
       "479            Seth Sinovic    30\n",
       "480           Shaun Francis    30\n",
       "481            Shea Salinas    30\n",
       "482        Sheanon Williams    30\n",
       "483       Steven Beitashour    30\n",
       "484             Taylor Kemp    30\n",
       "485            Tony Beltran    30\n",
       "486           Tsubasa Endoh    30\n",
       "487             Tyler Adams    30\n",
       "488            Tyrone Mears    30\n",
       "489                   Vytas    30\n",
       "490          Waylon Francis    30\n",
       "491          Zarek Valentin    30\n",
       "\n",
       "[492 rows x 2 columns]"
      ]
     },
     "execution_count": 793,
     "metadata": {},
     "output_type": "execute_result"
    }
   ],
   "source": [
    "roles"
   ]
  },
  {
   "cell_type": "code",
   "execution_count": null,
   "metadata": {
    "collapsed": true
   },
   "outputs": [],
   "source": []
  }
 ],
 "metadata": {
  "kernelspec": {
   "display_name": "Python 3",
   "language": "python",
   "name": "python3"
  },
  "language_info": {
   "codemirror_mode": {
    "name": "ipython",
    "version": 3
   },
   "file_extension": ".py",
   "mimetype": "text/x-python",
   "name": "python",
   "nbconvert_exporter": "python",
   "pygments_lexer": "ipython3",
   "version": "3.6.1"
  }
 },
 "nbformat": 4,
 "nbformat_minor": 2
}
